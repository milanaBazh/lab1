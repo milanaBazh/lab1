{
  "cells": [
    {
      "cell_type": "markdown",
      "metadata": {
        "id": "M-DGa20PaHnu"
      },
      "source": [
        "#Задача 1\n",
        "Написать функцию на вход которой подается строка, состоящая из латинских букв.\n",
        "Функция должна вернуть количество гласных букв (a, e, i, o, u) в этой строке. Написать тесты для кода "
      ]
    },
    {
      "cell_type": "code",
      "execution_count": 1,
      "metadata": {
        "id": "XvX8X_JJ6PCb"
      },
      "outputs": [],
      "source": [
        "def sounds(text):\n",
        "    count = 0\n",
        "    for char in text.lower():\n",
        "        if char in 'aeiou':\n",
        "            count += 1\n",
        "    return count\n",
        "\n",
        "assert sounds(\"hello\") == 2\n",
        "assert sounds(\"world\") == 1\n",
        "assert sounds(\"aeiou\") == 5\n",
        "assert sounds(\"Python\") == 1\n",
        "assert sounds(\"\") == 0\n",
        "assert sounds(\"bcdfg\") == 0"
      ]
    },
    {
      "cell_type": "markdown",
      "metadata": {
        "id": "t2ClV_Y0bbr6"
      },
      "source": [
        "# Задача 2\n",
        "Написать функцию на вход, которой подается строка. Функция должна вернуть true, если\n",
        "каждый символ в строке встречается только 1 раз, иначе должна вернуть false. Написать тесты для кода"
      ]
    },
    {
      "cell_type": "code",
      "execution_count": 2,
      "metadata": {
        "id": "FppbECao6VIz"
      },
      "outputs": [],
      "source": [
        "def has_unique_chars(string):\n",
        "    return len(string) == len(set(string)) \n",
        "\n",
        "assert has_unique_chars(\"abcdef\") == True\n",
        "assert has_unique_chars(\"hello\") == False\n",
        "assert has_unique_chars(\"\") == True\n",
        "assert has_unique_chars(\"a\") == True"
      ]
    },
    {
      "cell_type": "markdown",
      "metadata": {
        "id": "udRiIK1cdt6E"
      },
      "source": [
        "# Задача 3\n",
        "Написать функцию, которая принимает положительное число и возвращает количество\n",
        "бит равных 1 в этом числе. Написать тесты для кода"
      ]
    },
    {
      "cell_type": "code",
      "execution_count": 3,
      "metadata": {
        "id": "6tkfDJRz6dp_"
      },
      "outputs": [],
      "source": [
        "def count_bit(n):\n",
        "    return bin(n).count('1') if n >= 0 else 0\n",
        "\n",
        "    assert count_bits(0) == 0\n",
        "    assert count_bits(1) == 1\n",
        "    assert count_bits(2) == 1\n",
        "    assert count_bits(3) == 2\n",
        "    assert count_bits(7) == 3\n",
        "   "
      ]
    },
    {
      "cell_type": "markdown",
      "metadata": {
        "id": "26dDUz-Ae17N"
      },
      "source": [
        "# Задача 4\n",
        "Написать функцию, которая принимает положительное число. Функция должна вернуть то,\n",
        "сколько раз необходимо перемножать цифры числа или результат перемножения, чтобы\n",
        "получилось число состоящее из одной цифры.\n",
        "Например, для входного числа:\n",
        "· 39 функция должна вернуть 3, так как 3*9=27 => 2*7=14 => 1*4=4\n",
        "· 4 функция должна вернуть 0, так как число уже состоит из одной цифры\n",
        "· 999 функция должна вернуть 4, так как 9*9*9=729 => 7*2*9=126 => 1*2*6=12 =>\n",
        "1*2=2. Написать тесты для кода"
      ]
    },
    {
      "cell_type": "code",
      "execution_count": 4,
      "metadata": {
        "id": "BH1A_Mgi6i4G"
      },
      "outputs": [],
      "source": [
        "def magic(n):\n",
        "    if n < 10:\n",
        "        return 0\n",
        "    \n",
        "    count = 0\n",
        "    current = n\n",
        "    \n",
        "    while current >= 10:\n",
        "        digits = [int(digit) for digit in str(current)]\n",
        "        product = 1\n",
        "        for digit in digits:\n",
        "            product *= digit\n",
        "        current = product\n",
        "        count += 1\n",
        "    return count\n",
        "\n",
        "# Тесты\n",
        "assert magic(39) == 3\n",
        "assert magic(4) == 0\n",
        "assert magic(999) == 4\n",
        "assert magic(10) == 1\n"
      ]
    },
    {
      "cell_type": "markdown",
      "metadata": {
        "id": "0nS-kIa8g8vd"
      },
      "source": [
        "# Задача 5\n",
        "Написать функцию, которая принимает два целочисленных вектора одинаковой длины и\n",
        "возвращает среднеквадратическое отклонение двух векторов. Написать тесты для кода"
      ]
    },
    {
      "cell_type": "code",
      "execution_count": null,
      "metadata": {
        "id": "8iphx4LM6xbx"
      },
      "outputs": [],
      "source": [
        "import math\n",
        "def mse(pred, true):\n",
        "    if len(pred) != len(true):\n",
        "        raise ValueError(\"Векторы должны быть одинаковой длины\")\n",
        "    if len(pred) == 0:\n",
        "        raise ValueError(\"Векторы не могут быть пустыми\")\n",
        "    \n",
        "    squared_errors = []\n",
        "    for i in range(len(pred)):\n",
        "        error = pred[i] - true[i]\n",
        "        squared_errors.append(error ** 2)\n",
        "    \n",
        "    mean_squared = sum(squared_errors) / len(squared_errors)\n",
        "    root_mean_squared = math.sqrt(mean_squared)\n",
        "    \n",
        "    return root_mean_squared\n",
        "\n",
        "def test_mse():\n",
        "    # Тест 1\n",
        "    pred1 = [1, 2, 3]\n",
        "    true1 = [1, 2, 3]\n",
        "    assert mse(pred1, true1) == 0.0, \"Ошибка для одинаковых векторов\"\n",
        "\n",
        "    # Тест 2\n",
        "    pred3 = [1.5, 2.5, 3.5]\n",
        "    true3 = [1.0, 2.0, 3.0]\n",
        "    expected3 = math.sqrt((0.5**2 + 0.5**2 + 0.5**2) / 3)\n",
        "    assert abs(mse(pred3, true3) - expected3) < 1e-10, \"Ошибка с дробными числами\"\n",
        "   "
      ]
    },
    {
      "cell_type": "markdown",
      "metadata": {
        "id": "vpIPKL439zkw"
      },
      "source": [
        "# Задача 6\n",
        "Написать функцию, принимающая целое положительное число. Функция должна вернуть\n",
        "строку вида “(n1**p1)(n2**p2)…(nk**pk)” представляющая разложение числа на простые\n",
        "множители (если pi == 1, то выводить только ni).\n",
        "Например, для числа 86240 функция должна вернуть “(2**5)(5)(7**2)(11)”. Написать тесты для кода"
      ]
    },
    {
      "cell_type": "code",
      "execution_count": 9,
      "metadata": {
        "id": "pFebmcZk94Jw"
      },
      "outputs": [],
      "source": [
        "def prime_factors(n):\n",
        "  \n",
        "    if n <= 1:\n",
        "        return f\"({n})\"\n",
        "    \n",
        "    result = []\n",
        "    divisor = 2\n",
        "    \n",
        "    while divisor * divisor <= n:\n",
        "        count = 0\n",
        "        while n % divisor == 0:\n",
        "            count += 1\n",
        "            n //= divisor\n",
        "        \n",
        "        if count > 0:\n",
        "            if count == 1:\n",
        "                result.append(f\"({divisor})\")\n",
        "            else:\n",
        "                result.append(f\"({divisor}**{count})\")\n",
        "        \n",
        "        divisor += 1\n",
        "    \n",
        "    # Если остался простой делитель больше 1\n",
        "    if n > 1:\n",
        "        result.append(f\"({n})\")\n",
        "    \n",
        "    return \"\".join(result)\n",
        "\n",
        "\n",
        "# Тесты\n",
        "\n",
        "# Тест 1\n",
        "assert prime_factors(86240) == \"(2**5)(5)(7**2)(11)\"\n",
        "    \n",
        "#Тест 2\n",
        "assert prime_factors(13) == \"(13)\"\n",
        "    \n",
        "# Тест 3\n",
        "assert prime_factors(8) == \"(2**3)\"\n",
        "assert prime_factors(27) == \"(3**3)\"\n",
        "    \n",
        "#Тест 4\n",
        "assert prime_factors(30) == \"(2)(3)(5)\"\n",
        "assert prime_factors(100) == \"(2**2)(5**2)\"\n",
        "    \n",
        "# Тест 5\n",
        "assert prime_factors(1) == \"(1)\""
      ]
    },
    {
      "cell_type": "markdown",
      "metadata": {
        "id": "ps2s0BudX7A2"
      },
      "source": [
        "# Задача 7\n",
        "Написать функцию, принимающая целое число n, задающее количество кубиков. Функция\n",
        "должна определить, можно ли из данного кол-ва кубиков построить пирамиду, то есть\n",
        "можно ли представить число n как 1^2+2^2+3^2+…+k^2. Если можно, то функция должна\n",
        "вернуть k, иначе строку “It is impossible”. Написать тесты для кода"
      ]
    },
    {
      "cell_type": "code",
      "execution_count": 11,
      "metadata": {
        "id": "3YPjEXxhX_YT"
      },
      "outputs": [],
      "source": [
        "def pyramid(number):\n",
        " \n",
        "    if number <= 0:\n",
        "        return \"It is impossible\"\n",
        "    \n",
        "    total = 0\n",
        "    k = 0\n",
        "    \n",
        "    while total < number:\n",
        "        k += 1\n",
        "        total += k * k\n",
        "        \n",
        "        if total == number:\n",
        "            return k\n",
        "    \n",
        "    return \"It is impossible\"\n",
        "\n",
        "# Тесты\n",
        "# Тест 1\n",
        "assert pyramid(1) == 1, \"Ошибка для 1 кубика\"\n",
        "    \n",
        "# Тест 2: 5 кубиков (1^2 + 2^2 = 1 + 4)\n",
        "assert pyramid(5) == 2, \"Ошибка для 5 кубиков\"\n",
        "    \n",
        "# Тест 3: 14 кубиков (1^2 + 2^2 + 3^2 = 1 + 4 + 9)\n",
        "assert pyramid(14) == 3, \"Ошибка для 14 кубиков\"\n",
        "    \n",
        "# Тест 4: 30 кубиков (1^2 + 2^2 + 3^2 + 4^2 = 1 + 4 + 9 + 16)\n",
        "assert pyramid(30) == 4, \"Ошибка для 30 кубиков\"\n",
        "    \n",
        " # Тест 5: 55 кубиков (1^2 + 2^2 + 3^2 + 4^2 + 5^2 = 1 + 4 + 9 + 16 + 25)\n",
        "assert pyramid(55) == 5, \"Ошибка для 55 кубиков\"\n",
        "    \n",
        "# Тест 6: Невозможное количество - 2 кубика\n",
        "assert pyramid(2) == \"It is impossible\", \"Ошибка для 2 кубиков\"\n",
        "    \n",
        "# Тест 7: Невозможное количество - 7 кубиков\n",
        "assert pyramid(7) == \"It is impossible\", \"Ошибка для 7 кубиков\"\n",
        "    \n",
        "    \n",
        "    "
      ]
    },
    {
      "cell_type": "markdown",
      "metadata": {
        "id": "KeKgmIdAQMEJ"
      },
      "source": [
        "# Задача 8\n",
        "Функция принимает на вход положительное число и определяет является ли оно сбалансированным, т.е. сумма цифр до средних равна сумме цифр после. Средними в случае нечетного числа цифр считать одну цифру, в случае четного - две средних. Написать тесты для кода"
      ]
    },
    {
      "cell_type": "code",
      "execution_count": 7,
      "metadata": {
        "id": "gMAAqtqlQrZt"
      },
      "outputs": [],
      "source": [
        "def is_balanced(number):\n",
        "    digits = str(number)\n",
        "    n = len(digits)\n",
        "    \n",
        "    if n < 3:\n",
        "        return False\n",
        "    \n",
        "    if n % 2 == 1:  \n",
        "        mid = n // 2\n",
        "        left_sum = sum(int(d) for d in digits[:mid])\n",
        "        right_sum = sum(int(d) for d in digits[mid+1:])\n",
        "    else:\n",
        "        mid = n // 2\n",
        "        left_sum = sum(int(d) for d in digits[:mid-1])\n",
        "        right_sum = sum(int(d) for d in digits[mid+1:])\n",
        "    \n",
        "    return left_sum == right_sum\n",
        "\n",
        "# Нечетное количество цифр\n",
        "assert is_balanced(121), \"121: 1 = 1 (должен быть сбалансирован)\"\n",
        "assert is_balanced(12321), \"12321: 1+2 = 2+1 (должен быть сбалансирован)\"\n",
        "assert is_balanced(1234321), \"1234321: 1+2+3 = 3+2+1 (должен быть сбалансирован)\"\n",
        "# Четное количество цифр\n",
        "assert is_balanced(1221), \"1221: 1 = 1 (должен быть сбалансирован)\"\n",
        "assert is_balanced(123321), \"123321: 1+2 = 2+1 (должен быть сбалансирован)\"\n",
        "# Несбалансированные числа\n",
        "assert not is_balanced(123), \"123: 1 ≠ 3 (должен быть НЕ сбалансирован)\"\n"
      ]
    }
  ],
  "metadata": {
    "colab": {
      "provenance": []
    },
    "kernelspec": {
      "display_name": "Python 3",
      "name": "python3"
    },
    "language_info": {
      "codemirror_mode": {
        "name": "ipython",
        "version": 3
      },
      "file_extension": ".py",
      "mimetype": "text/x-python",
      "name": "python",
      "nbconvert_exporter": "python",
      "pygments_lexer": "ipython3",
      "version": "3.10.11"
    }
  },
  "nbformat": 4,
  "nbformat_minor": 0
}
